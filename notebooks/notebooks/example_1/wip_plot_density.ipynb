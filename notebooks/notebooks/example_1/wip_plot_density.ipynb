{
 "cells": [
  {
   "cell_type": "code",
   "execution_count": null,
   "id": "20e3b108",
   "metadata": {},
   "outputs": [],
   "source": [
    "%pip install ipyleaflet\n",
    "%pip install xyzservices"
   ]
  },
  {
   "cell_type": "code",
   "execution_count": 4,
   "id": "399e31c4",
   "metadata": {},
   "outputs": [
    {
     "name": "stderr",
     "output_type": "stream",
     "text": [
      "IOPub message rate exceeded.\n",
      "The notebook server will temporarily stop sending output\n",
      "to the client in order to avoid crashing it.\n",
      "To change this limit, set the config variable\n",
      "`--NotebookApp.iopub_msg_rate_limit`.\n",
      "\n",
      "Current values:\n",
      "NotebookApp.iopub_msg_rate_limit=1000.0 (msgs/sec)\n",
      "NotebookApp.rate_limit_window=3.0 (secs)\n",
      "\n",
      "/opt/conda/lib/python3.10/site-packages/jupyter_client/session.py:719: UserWarning: Message serialization failed with:\n",
      "Out of range float values are not JSON compliant\n",
      "Supporting this message is deprecated in jupyter-client 7, please make sure your message is JSON-compliant\n",
      "  content = self.pack(content)\n",
      "IOPub message rate exceeded.\n",
      "The notebook server will temporarily stop sending output\n",
      "to the client in order to avoid crashing it.\n",
      "To change this limit, set the config variable\n",
      "`--NotebookApp.iopub_msg_rate_limit`.\n",
      "\n",
      "Current values:\n",
      "NotebookApp.iopub_msg_rate_limit=1000.0 (msgs/sec)\n",
      "NotebookApp.rate_limit_window=3.0 (secs)\n",
      "\n"
     ]
    },
    {
     "data": {
      "application/vnd.jupyter.widget-view+json": {
       "model_id": "275d1bd497fa4f1c80d82ffc246aea4a",
       "version_major": 2,
       "version_minor": 0
      },
      "text/plain": [
       "Map(center=[39.642816, -3.964464], controls=(ZoomControl(options=['position', 'zoom_in_text', 'zoom_in_title',…"
      ]
     },
     "execution_count": 4,
     "metadata": {},
     "output_type": "execute_result"
    }
   ],
   "source": [
    "from ipyleaflet import Map, basemaps, Circle\n",
    "import pandas as p\n",
    "\n",
    "center = [39.642816,-3.964464]\n",
    "zoom = 6\n",
    "\n",
    "m = Map(basemap=basemaps.OpenStreetMap.Mapnik, center=center, zoom=zoom)\n",
    "\n",
    "\n",
    "pdf = p.read_csv('products_with_location.csv')\n",
    "npdf= pdf.head(4500)\n",
    "for i,r in npdf.loc[:,['latitude','longitude']].iterrows():\n",
    "    p = Circle()\n",
    "    p.radius=1\n",
    "    p.weight=1\n",
    "    p.color=\"blue\"\n",
    "    p.fill_color=\"blue\"\n",
    "    p.location = (r['latitude'],r['longitude'])\n",
    "    m.add(p)\n",
    "m\n",
    "\n",
    "\n",
    "_radius = 20000 # search range in meters\n",
    "r = Circle()\n",
    "r.radius = _radius\n",
    "r.weight=2\n",
    "r.color = \"orange\"\n",
    "r.fill_color = \"orange\"\n",
    "_bcn_latlon = (41.3927673,2.0577902)\n",
    "r.location = _bcn_latlon\n",
    "m.add(r)\n",
    "m"
   ]
  },
  {
   "cell_type": "code",
   "execution_count": null,
   "id": "2dc740c4",
   "metadata": {
    "scrolled": true
   },
   "outputs": [],
   "source": [
    "\n"
   ]
  },
  {
   "cell_type": "code",
   "execution_count": null,
   "id": "86095f2c",
   "metadata": {},
   "outputs": [],
   "source": []
  }
 ],
 "metadata": {
  "kernelspec": {
   "display_name": "Python 3 (ipykernel)",
   "language": "python",
   "name": "python3"
  },
  "language_info": {
   "codemirror_mode": {
    "name": "ipython",
    "version": 3
   },
   "file_extension": ".py",
   "mimetype": "text/x-python",
   "name": "python",
   "nbconvert_exporter": "python",
   "pygments_lexer": "ipython3",
   "version": "3.10.9"
  }
 },
 "nbformat": 4,
 "nbformat_minor": 5
}
