{
 "cells": [
  {
   "cell_type": "code",
   "execution_count": null,
   "id": "80bed65f",
   "metadata": {},
   "outputs": [],
   "source": []
  },
  {
   "cell_type": "code",
   "execution_count": 1,
   "id": "0d62c2d4",
   "metadata": {},
   "outputs": [
    {
     "name": "stdout",
     "output_type": "stream",
     "text": [
      "481920\n"
     ]
    }
   ],
   "source": [
    "import pandas as pd\n",
    "import requests\n",
    "import json\n",
    "\n",
    "# Load your products dataset\n",
    "# For example: df = pd.read_csv('path_to_your_products_dataset.csv')\n",
    "# Make sure to replace 'path_to_your_products_dataset.csv' with the actual path to your products dataset\n",
    "\n",
    "def index_batch_to_solr(batch_data, solr_url, solr_core):\n",
    "    \"\"\"\n",
    "    Index a batch of data to Solr.\n",
    "    \"\"\"\n",
    "    headers = {'Content-type': 'application/json'}\n",
    "    data = json.dumps(batch_data)\n",
    "    print(data)\n",
    "    response = requests.post(f'{solr_url}/{solr_core}/update?commitWithin=1000', data=data, headers=headers)\n",
    "    return response\n",
    "\n",
    "def batch_indexing(df, batch_size, solr_url, solr_core):\n",
    "    \"\"\"\n",
    "    Index data in batches.\n",
    "    \"\"\"\n",
    "    for i in range(0, len(df), batch_size):\n",
    "        batch = df.iloc[i:i + batch_size].to_dict(orient='records')\n",
    "\n",
    "        response = index_batch_to_solr(batch, solr_url, solr_core)\n",
    "        if response.status_code != 200:\n",
    "            print(f\"Error indexing batch {i // batch_size}: {response.text}\")\n",
    "\n",
    "# Parameters\n",
    "df = pd.read_csv('./products_with_location.csv')\n",
    "\n",
    "print(df.size)"
   ]
  },
  {
   "cell_type": "code",
   "execution_count": null,
   "id": "1c29ab8c",
   "metadata": {},
   "outputs": [],
   "source": []
  }
 ],
 "metadata": {
  "kernelspec": {
   "display_name": "Python 3 (ipykernel)",
   "language": "python",
   "name": "python3"
  },
  "language_info": {
   "codemirror_mode": {
    "name": "ipython",
    "version": 3
   },
   "file_extension": ".py",
   "mimetype": "text/x-python",
   "name": "python",
   "nbconvert_exporter": "python",
   "pygments_lexer": "ipython3",
   "version": "3.10.9"
  }
 },
 "nbformat": 4,
 "nbformat_minor": 5
}
